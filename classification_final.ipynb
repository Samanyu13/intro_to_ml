{
 "cells": [
  {
   "cell_type": "code",
   "execution_count": 16,
   "metadata": {},
   "outputs": [],
   "source": [
    "# example of training a final classification model\n",
    "from sklearn.linear_model import LogisticRegression\n",
    "from sklearn.datasets.samples_generator import make_blobs\n",
    "import pickle\n",
    "from sklearn.datasets.samples_generator import make_blobs\n",
    "from matplotlib import pyplot\n",
    "from pandas import DataFrame\n"
   ]
  },
  {
   "cell_type": "code",
   "execution_count": 27,
   "metadata": {},
   "outputs": [
    {
     "name": "stdout",
     "output_type": "stream",
     "text": [
      "[[-7.94152277e-01  2.10495117e+00]\n",
      " [-9.15155186e+00 -4.81286449e+00]\n",
      " [-3.10367371e+00  3.90202401e+00]\n",
      " [-1.42946517e+00  5.16850105e+00]\n",
      " [-7.46938680e+00 -4.20198333e+00]\n",
      " [-9.19585147e+00 -3.90678125e+00]\n",
      " [-9.31764266e+00 -4.27315015e+00]\n",
      " [-9.20490564e+00 -4.57687928e+00]\n",
      " [-2.76017908e+00  5.55121358e+00]\n",
      " [-1.17104176e+00  4.33091816e+00]\n",
      " [-1.00364080e+01 -5.56912090e+00]\n",
      " [-1.53773863e+00  5.53597378e+00]\n",
      " [-1.01081595e+01 -4.57071061e+00]\n",
      " [-2.40671820e+00  6.09894447e+00]\n",
      " [-7.80701277e+00 -5.84970947e+00]\n",
      " [-9.01137732e+00 -3.73981465e+00]\n",
      " [-9.76521794e+00 -3.27079714e+00]\n",
      " [-2.34673261e+00  3.56128423e+00]\n",
      " [-2.00341358e+00  4.45008673e+00]\n",
      " [-1.10926243e+01 -3.78396611e+00]\n",
      " [-9.43495141e+00 -3.71261146e+00]\n",
      " [-1.02639310e+01 -3.92073400e+00]\n",
      " [-9.74891334e+00 -4.24998970e+00]\n",
      " [-1.34052081e+00  4.15711949e+00]\n",
      " [-2.03484486e+00  3.76775946e+00]\n",
      " [-1.03078293e+01 -6.38818631e+00]\n",
      " [-9.55634806e+00 -4.05350378e+00]\n",
      " [-1.35938959e+00  4.05424002e+00]\n",
      " [-1.97451969e-01  2.34634916e+00]\n",
      " [-9.47713617e+00 -5.09768994e+00]\n",
      " [-1.92744799e+00  4.93684534e+00]\n",
      " [-2.80207810e+00  4.05714715e+00]\n",
      " [-1.05148070e+01 -4.95037538e+00]\n",
      " [-1.85139546e+00  3.51886090e+00]\n",
      " [-8.37006175e+00 -3.61533685e+00]\n",
      " [-1.01842823e+01 -4.05509442e+00]\n",
      " [-4.60642026e-01  4.59164629e+00]\n",
      " [-1.13708298e+01 -3.63818916e+00]\n",
      " [-1.01786328e+01 -4.55726918e+00]\n",
      " [-1.01341572e+01 -4.07240274e+00]\n",
      " [-9.71704743e+00 -4.02646125e+00]\n",
      " [-9.64716652e+00 -5.26563196e+00]\n",
      " [-1.98197711e+00  4.02243551e+00]\n",
      " [-1.12277706e+01 -3.40281105e+00]\n",
      " [-1.46126019e+00  4.52549851e+00]\n",
      " [-9.46824718e+00 -3.81564734e+00]\n",
      " [-7.57969185e-01  4.90898421e+00]\n",
      " [ 5.26015501e-01  3.00999353e+00]\n",
      " [-2.77687025e+00  4.64090557e+00]\n",
      " [-1.78245013e+00  3.47072043e+00]\n",
      " [-1.88188805e+00  4.20573180e+00]\n",
      " [-9.33866271e+00 -5.58078689e+00]\n",
      " [-9.91989138e+00 -3.33496829e+00]\n",
      " [-1.03985907e+01 -3.12934293e+00]\n",
      " [-1.53940095e+00  5.02369298e+00]\n",
      " [-9.50250118e+00 -4.12805171e+00]\n",
      " [-2.27956075e+00  5.10452190e+00]\n",
      " [-8.72395657e+00 -1.98624680e+00]\n",
      " [-1.61734616e+00  4.98930508e+00]\n",
      " [-1.14663009e+00  4.10839703e+00]\n",
      " [-1.47299851e+00  4.81654152e+00]\n",
      " [-1.06446292e+01 -3.05186166e+00]\n",
      " [-9.49452769e+00 -2.66012266e+00]\n",
      " [-1.00223295e+01 -4.72851017e+00]\n",
      " [-1.18556944e+01 -2.71718452e+00]\n",
      " [-8.66625539e+00 -4.24065641e+00]\n",
      " [-2.41395785e+00  5.65935802e+00]\n",
      " [-1.12702713e+01 -3.63980083e+00]\n",
      " [-1.83198811e+00  3.52863145e+00]\n",
      " [-1.23606555e+00  4.48382994e+00]\n",
      " [-9.59422086e+00 -3.35977002e+00]\n",
      " [-9.25715605e+00 -4.90704915e+00]\n",
      " [-9.39539322e+00 -3.53306634e+00]\n",
      " [-8.20576492e-01  5.33759195e+00]\n",
      " [ 2.42271161e-04  5.14853403e+00]\n",
      " [-1.34392496e+00  2.38428865e+00]\n",
      " [-9.12882635e+00 -3.20293691e+00]\n",
      " [-9.95404351e+00 -4.17966279e+00]\n",
      " [-2.18773166e+00  3.33352125e+00]\n",
      " [-2.10668847e+00  5.63099757e+00]\n",
      " [-5.27930518e-01  5.92630669e+00]\n",
      " [-1.11969805e+01 -3.09000323e+00]\n",
      " [-1.49952284e+00  5.28265879e+00]\n",
      " [-8.09305380e+00 -2.84229185e+00]\n",
      " [-2.35122066e+00  4.00973634e+00]\n",
      " [-5.25790464e-01  3.30659860e+00]\n",
      " [-1.46864442e+00  6.50674501e+00]\n",
      " [-7.58703957e-01  3.72276201e+00]\n",
      " [-1.96576392e+00  5.23446451e+00]\n",
      " [-2.33080604e+00  4.39382527e+00]\n",
      " [-8.83737393e+00 -3.58385583e+00]\n",
      " [-1.60875215e+00  3.76949422e+00]\n",
      " [-1.86845414e+00  4.99311306e+00]\n",
      " [-2.33022219e+00  4.78405366e+00]\n",
      " [-8.87629480e+00 -3.54444801e+00]\n",
      " [-8.95888790e+00 -1.76636890e+00]\n",
      " [-9.98030310e+00 -5.07536728e+00]\n",
      " [-1.37397258e+00  5.29163103e+00]\n",
      " [-9.18676083e+00 -2.90890645e+00]\n",
      " [ 8.52518583e-02  3.64528297e+00]]\n"
     ]
    },
    {
     "data": {
      "image/png": "[encoded data removed]",
      "text/plain": [
       "<Figure size 432x288 with 1 Axes>"
      ]
     },
     "metadata": {
      "needs_background": "light"
     },
     "output_type": "display_data"
    },
    {
     "name": "stderr",
     "output_type": "stream",
     "text": [
      "/home/quest/anaconda3/lib/python3.7/site-packages/sklearn/linear_model/logistic.py:433: FutureWarning: Default solver will be changed to 'lbfgs' in 0.22. Specify a solver to silence this warning.\n",
      "  FutureWarning)\n"
     ]
    },
    {
     "data": {
      "text/plain": [
       "LogisticRegression(C=1.0, class_weight=None, dual=False, fit_intercept=True,\n",
       "          intercept_scaling=1, max_iter=100, multi_class='warn',\n",
       "          n_jobs=None, penalty='l2', random_state=None, solver='warn',\n",
       "          tol=0.0001, verbose=0, warm_start=False)"
      ]
     },
     "execution_count": 27,
     "metadata": {},
     "output_type": "execute_result"
    }
   ],
   "source": [
    "# generate 2d classification dataset\n",
    "X, y = make_blobs(n_samples=100, centers=2, n_features=2, random_state=1)\n",
    "# print(X)\n",
    "# scatter plot, dots colored by class value\n",
    "df = DataFrame(dict(x=X[:,0], y=X[:,1], label=y))\n",
    "colors = {0:'red', 1:'blue',}\n",
    "fig, ax = pyplot.subplots()\n",
    "grouped = df.groupby('label')\n",
    "for key, group in grouped:\n",
    "    group.plot(ax=ax, kind='scatter', x='x', y='y', label=key, color=colors[key])\n",
    "pyplot.show()\n",
    "# fit final model\n",
    "model = LogisticRegression()\n",
    "model.fit(X, y)\n"
   ]
  },
  {
   "cell_type": "code",
   "execution_count": 26,
   "metadata": {},
   "outputs": [
    {
     "data": {
      "text/plain": [
       "LinearRegression(copy_X=True, fit_intercept=True, n_jobs=None,\n",
       "         normalize=False)"
      ]
     },
     "execution_count": 26,
     "metadata": {},
     "output_type": "execute_result"
    }
   ],
   "source": []
  },
  {
   "cell_type": "code",
   "execution_count": null,
   "metadata": {},
   "outputs": [],
   "source": []
  },
  {
   "cell_type": "code",
   "execution_count": 22,
   "metadata": {},
   "outputs": [
    {
     "name": "stdout",
     "output_type": "stream",
     "text": [
      "1.0\n"
     ]
    }
   ],
   "source": [
    "# save the model to disk\n",
    "filename = 'finalized_model.sav'\n",
    "pickle.dump(model, open(filename, 'wb'))\n",
    " \n",
    "# some time later...\n",
    " \n",
    "# load the model from disk\n",
    "loaded_model = pickle.load(open(filename, 'rb'))\n",
    "result = loaded_model.score(X,y)\n",
    "print(result)"
   ]
  }
 ],
 "metadata": {
  "kernelspec": {
   "display_name": "Python 3",
   "language": "python",
   "name": "python3"
  },
  "language_info": {
   "codemirror_mode": {
    "name": "ipython",
    "version": 3
   },
   "file_extension": ".py",
   "mimetype": "text/x-python",
   "name": "python",
   "nbconvert_exporter": "python",
   "pygments_lexer": "ipython3",
   "version": "3.7.3"
  }
 },
 "nbformat": 4,
 "nbformat_minor": 2
}
