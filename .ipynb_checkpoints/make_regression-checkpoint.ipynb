{
 "cells": [
  {
   "cell_type": "code",
   "execution_count": 7,
   "metadata": {},
   "outputs": [],
   "source": [
    "# example of training a final regression model\n",
    "from sklearn.linear_model import LinearRegression\n",
    "from sklearn.datasets import make_regression\n",
    "import numpy\n",
    "from matplotlib import pyplot\n",
    "from pandas import DataFrame"
   ]
  },
  {
   "cell_type": "code",
   "execution_count": 13,
   "metadata": {},
   "outputs": [
    {
     "name": "stdout",
     "output_type": "stream",
     "text": [
      "[[ 1.23768468 -0.76316417]\n",
      " [-1.02027941  0.04597013]\n",
      " [-2.11122506 -1.09759791]\n",
      " [-0.79071893  0.60572725]\n",
      " [-0.09246242 -1.11295167]\n",
      " [ 0.95379559  2.44677595]\n",
      " [ 0.92065838 -0.02328542]\n",
      " [-0.02629469  0.47102736]\n",
      " [-0.17480453 -1.0333725 ]\n",
      " [ 1.32092555 -0.94761504]\n",
      " [ 1.43046643 -0.2008367 ]\n",
      " [-0.60735657  0.22147338]\n",
      " [ 0.01620036 -0.70044458]\n",
      " [-1.61269399  0.54327408]\n",
      " [-1.11088232  0.73208987]\n",
      " [ 0.08555016 -0.65625998]\n",
      " [ 1.74565498  0.79307284]\n",
      " [-1.11157527 -1.44976464]\n",
      " [-0.86424343 -0.86820562]\n",
      " [ 1.5285673   0.72881954]\n",
      " [ 1.19354452  0.4548061 ]\n",
      " [-0.84390806 -1.13196769]\n",
      " [-1.64036898 -1.02762239]\n",
      " [-0.81346817  0.56217417]\n",
      " [ 0.54042404 -0.03495019]\n",
      " [ 1.34518288  0.23201952]\n",
      " [-0.69115219 -1.33503653]\n",
      " [ 0.38484215  0.78163478]\n",
      " [-0.64106968  0.17538552]\n",
      " [ 0.83700606 -0.54065253]\n",
      " [ 0.08154234 -0.16770986]\n",
      " [ 0.45980601  1.13252176]\n",
      " [-2.10754515 -1.28252453]\n",
      " [-0.23656435  2.17089586]\n",
      " [-1.9556183   1.03251849]\n",
      " [ 0.2105856  -1.03024615]\n",
      " [-1.55626778  0.40130817]\n",
      " [ 1.07739602  2.06198653]\n",
      " [-0.10184482 -2.67792247]\n",
      " [ 1.40939443 -0.35109573]\n",
      " [ 0.17624675  0.37043304]\n",
      " [-0.37736188  0.87655291]\n",
      " [-0.15387388  0.21511921]\n",
      " [ 1.32784178 -0.23154693]\n",
      " [-0.91694928 -0.03200954]\n",
      " [ 0.14778277  0.63229221]\n",
      " [-0.40254783 -1.17223363]\n",
      " [-0.47760032 -0.51917208]\n",
      " [ 1.79044699 -1.29517651]\n",
      " [-1.22896172 -0.55632628]\n",
      " [ 0.5931668   1.08140038]\n",
      " [ 1.72767822 -1.00121505]\n",
      " [-0.21812712  0.36586855]\n",
      " [ 1.30247144  1.31917689]\n",
      " [ 0.04372161  0.32740948]\n",
      " [ 0.08779852 -0.20396246]\n",
      " [ 1.56619019  0.66728742]\n",
      " [ 1.87409392 -0.70996811]\n",
      " [ 1.57472985  0.40937377]\n",
      " [ 0.60540325 -2.26486983]\n",
      " [ 0.35130664  0.04152078]\n",
      " [ 1.77721885  0.7664337 ]\n",
      " [-1.1703152  -0.67033836]\n",
      " [-1.0844923   0.17023322]\n",
      " [-0.42502191 -0.68621536]\n",
      " [-1.4376026   1.03693604]\n",
      " [ 0.44034496 -1.83615588]\n",
      " [-0.42023289 -1.31578426]\n",
      " [ 2.68872725 -1.06508265]\n",
      " [ 0.53527574  0.54481175]\n",
      " [-3.01105087 -0.38118762]\n",
      " [ 0.05714492 -0.68393931]\n",
      " [ 1.61030691  0.86014492]\n",
      " [-0.58546469 -0.27981829]\n",
      " [-0.46452455  1.31128354]\n",
      " [ 0.70580789 -0.30427947]\n",
      " [ 1.68411517 -0.32776763]\n",
      " [-0.00394601  0.95981264]\n",
      " [-1.48993136 -1.26930987]\n",
      " [-1.65069567 -0.86606159]\n",
      " [-0.66773187  0.57965794]\n",
      " [ 0.22510042 -0.83791302]\n",
      " [ 0.5337621  -0.53528644]\n",
      " [-0.81509491  0.95206038]\n",
      " [-0.4887624   0.1907818 ]\n",
      " [-0.91540941  0.29026435]\n",
      " [ 0.07326127  0.7763788 ]\n",
      " [ 0.80533821 -0.86495295]\n",
      " [-0.13159346  1.23194548]\n",
      " [ 0.10163098 -0.80828167]\n",
      " [-1.7003884   2.46411432]\n",
      " [-1.32651247  0.8863406 ]\n",
      " [ 1.19134239 -1.05163185]\n",
      " [ 1.10600262 -0.69459912]\n",
      " [-0.43992826 -1.69044553]\n",
      " [ 0.25710201  0.47344123]\n",
      " [-0.62261314 -0.93968764]\n",
      " [-1.02484075 -0.00597578]\n",
      " [ 0.40832225 -0.63424857]\n",
      " [ 0.82848442  0.07386944]]\n"
     ]
    },
    {
     "ename": "KeyError",
     "evalue": "-231.12757461776548",
     "output_type": "error",
     "traceback": [
      "\u001b[0;31m---------------------------------------------------------------------------\u001b[0m",
      "\u001b[0;31mKeyError\u001b[0m                                  Traceback (most recent call last)",
      "\u001b[0;32m<ipython-input-13-c205f19b6cbd>\u001b[0m in \u001b[0;36m<module>\u001b[0;34m\u001b[0m\n\u001b[1;32m     11\u001b[0m \u001b[0mgrouped\u001b[0m \u001b[0;34m=\u001b[0m \u001b[0mdf\u001b[0m\u001b[0;34m.\u001b[0m\u001b[0mgroupby\u001b[0m\u001b[0;34m(\u001b[0m\u001b[0;34m'label'\u001b[0m\u001b[0;34m)\u001b[0m\u001b[0;34m\u001b[0m\u001b[0;34m\u001b[0m\u001b[0m\n\u001b[1;32m     12\u001b[0m \u001b[0;32mfor\u001b[0m \u001b[0mkey\u001b[0m\u001b[0;34m,\u001b[0m \u001b[0mgroup\u001b[0m \u001b[0;32min\u001b[0m \u001b[0mgrouped\u001b[0m\u001b[0;34m:\u001b[0m\u001b[0;34m\u001b[0m\u001b[0;34m\u001b[0m\u001b[0m\n\u001b[0;32m---> 13\u001b[0;31m     \u001b[0mgroup\u001b[0m\u001b[0;34m.\u001b[0m\u001b[0mplot\u001b[0m\u001b[0;34m(\u001b[0m\u001b[0max\u001b[0m\u001b[0;34m=\u001b[0m\u001b[0max\u001b[0m\u001b[0;34m,\u001b[0m \u001b[0mkind\u001b[0m\u001b[0;34m=\u001b[0m\u001b[0;34m'scatter'\u001b[0m\u001b[0;34m,\u001b[0m \u001b[0mx\u001b[0m\u001b[0;34m=\u001b[0m\u001b[0;34m'x'\u001b[0m\u001b[0;34m,\u001b[0m \u001b[0my\u001b[0m\u001b[0;34m=\u001b[0m\u001b[0;34m'y'\u001b[0m\u001b[0;34m,\u001b[0m \u001b[0mlabel\u001b[0m\u001b[0;34m=\u001b[0m\u001b[0mkey\u001b[0m\u001b[0;34m,\u001b[0m \u001b[0mcolor\u001b[0m\u001b[0;34m=\u001b[0m\u001b[0mcolors\u001b[0m\u001b[0;34m[\u001b[0m\u001b[0mkey\u001b[0m\u001b[0;34m]\u001b[0m\u001b[0;34m)\u001b[0m\u001b[0;34m\u001b[0m\u001b[0;34m\u001b[0m\u001b[0m\n\u001b[0m\u001b[1;32m     14\u001b[0m \u001b[0mpyplot\u001b[0m\u001b[0;34m.\u001b[0m\u001b[0mshow\u001b[0m\u001b[0;34m(\u001b[0m\u001b[0;34m)\u001b[0m\u001b[0;34m\u001b[0m\u001b[0;34m\u001b[0m\u001b[0m\n\u001b[1;32m     15\u001b[0m \u001b[0mXnew\u001b[0m\u001b[0;34m,\u001b[0m \u001b[0m_\u001b[0m \u001b[0;34m=\u001b[0m \u001b[0mmake_regression\u001b[0m\u001b[0;34m(\u001b[0m\u001b[0mn_samples\u001b[0m\u001b[0;34m=\u001b[0m\u001b[0;36m3\u001b[0m\u001b[0;34m,\u001b[0m \u001b[0mn_features\u001b[0m\u001b[0;34m=\u001b[0m\u001b[0;36m2\u001b[0m\u001b[0;34m,\u001b[0m \u001b[0mnoise\u001b[0m\u001b[0;34m=\u001b[0m\u001b[0;36m0.1\u001b[0m\u001b[0;34m,\u001b[0m \u001b[0mrandom_state\u001b[0m\u001b[0;34m=\u001b[0m\u001b[0;36m1\u001b[0m\u001b[0;34m)\u001b[0m\u001b[0;34m\u001b[0m\u001b[0;34m\u001b[0m\u001b[0m\n",
      "\u001b[0;31mKeyError\u001b[0m: -231.12757461776548"
     ]
    },
    {
     "data": {
      "image/png": "[encoded data removed]",
      "text/plain": [
       "<Figure size 432x288 with 1 Axes>"
      ]
     },
     "metadata": {
      "needs_background": "light"
     },
     "output_type": "display_data"
    }
   ],
   "source": [
    "# generate regression dataset\n",
    "X, y = make_regression(n_samples=100, n_features=2, noise=0.1)\n",
    "# fit final model\n",
    "model = LinearRegression()\n",
    "model.fit(X, y)\n",
    "#trying to plot\n",
    "# df = DataFrame(dict(x=X[:,0], y=X[:,1], label=y))\n",
    "# colors = {0:'red', 1:'blue',}\n",
    "# fig, ax = pyplot.subplots()\n",
    "# grouped = df.groupby('label')\n",
    "# for key, group in grouped:\n",
    "#     group.plot(ax=ax, kind='scatter', x='x', y='y', label=key, color=colors[key])\n",
    "# pyplot.show()\n",
    "Xnew, _ = make_regression(n_samples=3, n_features=2, noise=0.1, random_state=1)\n",
    "\n",
    "# make a prediction\n",
    "ynew = model.predict(Xnew)\n",
    "# show the inputs and predicted outputs\n",
    "for i in range(len(Xnew)):\n",
    "\tprint(\"X=%s, Predicted=%s\" % (Xnew[i], ynew[i]))\n"
   ]
  }
 ],
 "metadata": {
  "kernelspec": {
   "display_name": "Python 3",
   "language": "python",
   "name": "python3"
  },
  "language_info": {
   "codemirror_mode": {
    "name": "ipython",
    "version": 3
   },
   "file_extension": ".py",
   "mimetype": "text/x-python",
   "name": "python",
   "nbconvert_exporter": "python",
   "pygments_lexer": "ipython3",
   "version": "3.7.3"
  }
 },
 "nbformat": 4,
 "nbformat_minor": 2
}
